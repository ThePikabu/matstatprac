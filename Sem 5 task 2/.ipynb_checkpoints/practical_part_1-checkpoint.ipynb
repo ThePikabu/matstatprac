{
 "cells": [
  {
   "cell_type": "code",
   "execution_count": 1,
   "metadata": {},
   "outputs": [],
   "source": [
    "import numpy as np\n",
    "import pandas as pd\n",
    "from scipy import stats\n",
    "import matplotlib.pyplot as plt"
   ]
  },
  {
   "cell_type": "markdown",
   "metadata": {},
   "source": [
    "## Демократы и республиканцы голосовали одинаково?"
   ]
  },
  {
   "cell_type": "code",
   "execution_count": 35,
   "metadata": {},
   "outputs": [],
   "source": [
    "data = np.loadtxt(\"impeach.txt\", dtype='object')"
   ]
  },
  {
   "cell_type": "code",
   "execution_count": 57,
   "metadata": {},
   "outputs": [
    {
     "data": {
      "text/plain": [
       "array([['\\ufeffshelby', 'AL', '0', '1', '1', '1', '92', '43', '2004',\n",
       "        '0'],\n",
       "       ['sessions', 'AL', '1', '1', '2', '1', '100', '43', '2002', '1'],\n",
       "       ['murkowsk', 'AK', '1', '1', '2', '1', '68', '34', '2004', '0'],\n",
       "       ['stevens', 'AK', '0', '1', '1', '1', '58', '34', '2002', '0'],\n",
       "       ['kyl', 'AZ', '1', '1', '2', '1', '96', '47', '2000', '1'],\n",
       "       ['mccain', 'AZ', '1', '1', '2', '1', '80', '47', '2004', '0'],\n",
       "       ['timhutch', 'AR', '1', '1', '2', '1', '100', '54', '2002', '1'],\n",
       "       ['lincoln', 'AR', '0', '0', '0', '0', '36', '54', '2004', '1'],\n",
       "       ['boxer', 'CA', '0', '0', '0', '0', '0', '51', '2004', '0'],\n",
       "       ['feinstei', 'CA', '0', '0', '0', '0', '4', '51', '2000', '1'],\n",
       "       ['allard', 'CO', '1', '1', '2', '1', '100', '44', '2002', '1'],\n",
       "       ['campbell', 'CO', '1', '1', '2', '1', '72', '44', '2004', '0'],\n",
       "       ['dodd', 'CT', '0', '0', '0', '0', '4', '52', '2004', '0'],\n",
       "       ['lieberma', 'CT', '0', '0', '0', '0', '20', '52', '2000', '0'],\n",
       "       ['biden', 'DE', '0', '0', '0', '0', '16', '52', '2002', '0'],\n",
       "       ['roth', 'DE', '1', '1', '2', '1', '64', '52', '2000', '0'],\n",
       "       ['graham', 'FL', '0', '0', '0', '0', '8', '48', '2004', '0'],\n",
       "       ['mack', 'FL', '1', '1', '2', '1', '88', '48', '2000', '0'],\n",
       "       ['cleland', 'GA', '0', '0', '0', '0', '8', '46', '2002', '1'],\n",
       "       ['coverdel', 'GA', '1', '1', '2', '1', '92', '46', '2004', '0'],\n",
       "       ['akaka', 'HI', '0', '0', '0', '0', '4', '57', '2000', '1'],\n",
       "       ['inouye', 'HI', '0', '0', '0', '0', '4', '57', '2004', '0'],\n",
       "       ['craig', 'ID', '1', '1', '2', '1', '84', '34', '2002', '0'],\n",
       "       ['crapo', 'ID', '1', '1', '2', '1', '92', '34', '2004', '1'],\n",
       "       ['durbin', 'IL', '0', '0', '0', '0', '4', '54', '2002', '1'],\n",
       "       ['fitzgera', 'IL', '1', '1', '2', '1', '80', '54', '2004', '1'],\n",
       "       ['bayh', 'IN', '0', '0', '0', '0', '40', '42', '2004', '1'],\n",
       "       ['lugar', 'IN', '1', '1', '2', '1', '64', '42', '2000', '0'],\n",
       "       ['grassley', 'IA', '1', '1', '2', '1', '80', '50', '2004', '0'],\n",
       "       ['harkin', 'IA', '0', '0', '0', '0', '12', '50', '2002', '0'],\n",
       "       ['brownbac', 'KS', '1', '1', '2', '1', '100', '36', '2004', '1'],\n",
       "       ['roberts', 'KS', '1', '1', '2', '1', '68', '36', '2002', '1'],\n",
       "       ['bunning', 'KY', '1', '1', '2', '1', '92', '46', '2004', '1'],\n",
       "       ['mcconnel', 'KY', '1', '1', '2', '1', '88', '46', '2002', '0'],\n",
       "       ['breaux', 'LA', '0', '0', '0', '0', '20', '52', '2004', '0'],\n",
       "       ['landrieu', 'LA', '0', '0', '0', '0', '16', '52', '2002', '1'],\n",
       "       ['collins', 'ME', '0', '0', '0', '1', '48', '52', '2002', '1'],\n",
       "       ['snowe', 'ME', '0', '0', '0', '1', '44', '52', '2000', '1'],\n",
       "       ['mikulski', 'MD', '0', '0', '0', '0', '4', '54', '2004', '0'],\n",
       "       ['sarbanes', 'MD', '0', '0', '0', '0', '0', '54', '2000', '0'],\n",
       "       ['kennedy', 'MA', '0', '0', '0', '0', '4', '62', '2000', '0'],\n",
       "       ['jkerry', 'MA', '0', '0', '0', '0', '0', '62', '2002', '0'],\n",
       "       ['abraham', 'MI', '1', '1', '2', '1', '76', '52', '2000', '1'],\n",
       "       ['levin', 'MI', '0', '0', '0', '0', '0', '52', '2002', '0'],\n",
       "       ['grams', 'MN', '1', '1', '2', '1', '100', '51', '2000', '1'],\n",
       "       ['wellston', 'MN', '0', '0', '0', '0', '4', '51', '2002', '0'],\n",
       "       ['cochran', 'MS', '1', '1', '2', '1', '56', '44', '2002', '0'],\n",
       "       ['lott', 'MS', '1', '1', '2', '1', '72', '44', '2000', '0'],\n",
       "       ['ashcroft', 'MO', '1', '1', '2', '1', '100', '48', '2000', '1'],\n",
       "       ['bond', 'MO', '1', '1', '2', '1', '76', '48', '2004', '0'],\n",
       "       ['baucus', 'MT', '0', '0', '0', '0', '4', '41', '2002', '0'],\n",
       "       ['burns', 'MT', '1', '1', '2', '1', '88', '41', '2000', '0'],\n",
       "       ['hagel', 'NE', '1', '1', '2', '1', '80', '35', '2002', '1'],\n",
       "       ['bkerrey', 'NE', '0', '0', '0', '0', '4', '35', '2000', '0'],\n",
       "       ['bryan', 'NV', '0', '0', '0', '0', '4', '44', '2000', '0'],\n",
       "       ['hreid', 'NV', '0', '0', '0', '0', '8', '44', '2004', '0'],\n",
       "       ['gregg', 'NH', '1', '1', '2', '1', '76', '49', '2004', '0'],\n",
       "       ['bobsmith', 'NH', '1', '1', '2', '1', '96', '49', '2002', '0'],\n",
       "       ['lautenbe', 'NJ', '0', '0', '0', '0', '0', '53', '2000', '0'],\n",
       "       ['torricel', 'NJ', '0', '0', '0', '0', '16', '53', '2002', '1'],\n",
       "       ['bingaman', 'NM', '0', '0', '0', '0', '0', '50', '2000', '0'],\n",
       "       ['domenici', 'NM', '1', '1', '2', '1', '60', '50', '2002', '0'],\n",
       "       ['moynihan', 'NY', '0', '0', '0', '0', '12', '59', '2000', '0'],\n",
       "       ['schumer', 'NY', '0', '0', '0', '0', '19', '59', '2004', '1'],\n",
       "       ['edwards', 'NC', '0', '0', '0', '0', '40', '44', '2004', '1'],\n",
       "       ['helms', 'NC', '1', '1', '2', '1', '100', '44', '2002', '0'],\n",
       "       ['conrad', 'ND', '0', '0', '0', '0', '16', '40', '2000', '0'],\n",
       "       ['dorgan', 'ND', '0', '0', '0', '0', '16', '40', '2004', '0'],\n",
       "       ['dewine', 'OH', '1', '1', '2', '1', '68', '48', '2000', '1'],\n",
       "       ['voinovic', 'OH', '1', '1', '2', '1', '60', '48', '2004', '1'],\n",
       "       ['inhofe', 'OK', '1', '1', '2', '1', '100', '40', '2002', '1'],\n",
       "       ['nickles', 'OK', '1', '1', '2', '1', '96', '40', '2004', '0'],\n",
       "       ['gorsmith', 'OR', '1', '1', '2', '1', '72', '47', '2002', '1'],\n",
       "       ['wyden', 'OR', '0', '0', '0', '0', '8', '47', '2004', '1'],\n",
       "       ['santorum', 'PA', '1', '1', '2', '1', '84', '49', '2000', '1'],\n",
       "       ['specter', 'PA', '0', '0', '0', '1', '32', '49', '2004', '0'],\n",
       "       ['chafee', 'RI', '0', '0', '0', '1', '24', '60', '2000', '0'],\n",
       "       ['jackreed', 'RI', '0', '0', '0', '0', '0', '60', '2002', '1'],\n",
       "       ['hollings', 'SC', '0', '0', '0', '0', '8', '44', '2004', '0'],\n",
       "       ['thurmond', 'SC', '1', '1', '2', '1', '96', '44', '2002', '0'],\n",
       "       ['daschle', 'SD', '0', '0', '0', '0', '4', '43', '2004', '0'],\n",
       "       ['johnson', 'SD', '0', '0', '0', '0', '12', '43', '2002', '1'],\n",
       "       ['frist', 'TN', '1', '1', '2', '1', '72', '48', '2000', '1'],\n",
       "       ['thompson', 'TN', '0', '1', '1', '1', '88', '48', '2002', '1'],\n",
       "       ['gramm', 'TX', '1', '1', '2', '1', '100', '44', '2002', '0'],\n",
       "       ['kaybhut', 'TX', '1', '1', '2', '1', '92', '44', '2000', '1'],\n",
       "       ['bennett', 'UT', '1', '1', '2', '1', '68', '33', '2004', '0'],\n",
       "       ['hatch', 'UT', '1', '1', '2', '1', '68', '33', '2000', '0'],\n",
       "       ['jeffords', 'VT', '0', '0', '0', '1', '21', '54', '2000', '0'],\n",
       "       ['leahy', 'VT', '0', '0', '0', '0', '13', '54', '2004', '0'],\n",
       "       ['robb', 'VA', '0', '0', '0', '0', '4', '45', '2000', '0'],\n",
       "       ['warner', 'VA', '0', '1', '1', '1', '80', '45', '2002', '0'],\n",
       "       ['gorton', 'WA', '0', '1', '1', '1', '60', '51', '2000', '0'],\n",
       "       ['murray', 'WA', '0', '0', '0', '0', '0', '51', '2004', '0'],\n",
       "       ['byrd', 'WV', '0', '0', '0', '0', '16', '51', '2000', '0'],\n",
       "       ['rockefel', 'WV', '0', '0', '0', '0', '8', '51', '2002', '0'],\n",
       "       ['feingold', 'WI', '0', '0', '0', '0', '8', '49', '2004', '0'],\n",
       "       ['kohl', 'WI', '0', '0', '0', '0', '20', '49', '2000', '0'],\n",
       "       ['enzi', 'WY', '1', '1', '2', '1', '88', '37', '2002', '1'],\n",
       "       ['thomas', 'WY', '1', '1', '2', '1', '84', '37', '2000', '1']],\n",
       "      dtype=object)"
      ]
     },
     "execution_count": 57,
     "metadata": {},
     "output_type": "execute_result"
    }
   ],
   "source": [
    "data"
   ]
  },
  {
   "cell_type": "code",
   "execution_count": 105,
   "metadata": {},
   "outputs": [],
   "source": [
    "x = data[data[:,5]=='1'][:,4]\n",
    "y = data[data[:,5]=='0'][:,4]"
   ]
  },
  {
   "cell_type": "code",
   "execution_count": 123,
   "metadata": {},
   "outputs": [
    {
     "data": {
      "image/png": "[encoded data removed]",
      "text/plain": [
       "<Figure size 432x288 with 1 Axes>"
      ]
     },
     "metadata": {
      "needs_background": "light"
     },
     "output_type": "display_data"
    }
   ],
   "source": [
    "plt.hist([x, y], bins = 3, label = ['x', 'y'])\n",
    "plt.legend(loc='upper right')\n",
    "plt.show()"
   ]
  },
  {
   "cell_type": "code",
   "execution_count": 111,
   "metadata": {},
   "outputs": [
    {
     "data": {
      "text/plain": [
       "KstestResult(statistic=0.9090909090909091, pvalue=6.661338147750939e-16)"
      ]
     },
     "execution_count": 111,
     "metadata": {},
     "output_type": "execute_result"
    }
   ],
   "source": [
    "ans = stats.ks_2samp(x, y)\n",
    "ans"
   ]
  },
  {
   "cell_type": "markdown",
   "metadata": {},
   "source": [
    "## Новички и старожилы сената голосовали одинаково?"
   ]
  },
  {
   "cell_type": "code",
   "execution_count": 114,
   "metadata": {},
   "outputs": [],
   "source": [
    "x = data[data[:,9]=='1'][:,4] # zoomers\n",
    "y = data[data[:,9]=='0'][:,4] # boomers"
   ]
  },
  {
   "cell_type": "code",
   "execution_count": 124,
   "metadata": {},
   "outputs": [
    {
     "data": {
      "image/png": "[encoded data removed]",
      "text/plain": [
       "<Figure size 432x288 with 1 Axes>"
      ]
     },
     "metadata": {
      "needs_background": "light"
     },
     "output_type": "display_data"
    }
   ],
   "source": [
    "plt.hist([x, y], bins = 3, label = ['x', 'y'])\n",
    "plt.legend(loc='upper right')\n",
    "plt.show()"
   ]
  },
  {
   "cell_type": "code",
   "execution_count": 125,
   "metadata": {},
   "outputs": [
    {
     "data": {
      "text/plain": [
       "KstestResult(statistic=0.20797962648556875, pvalue=0.2200210232083799)"
      ]
     },
     "execution_count": 125,
     "metadata": {},
     "output_type": "execute_result"
    }
   ],
   "source": [
    "ans = stats.ks_2samp(x, y)\n",
    "ans"
   ]
  },
  {
   "cell_type": "markdown",
   "metadata": {},
   "source": [
    "## Cенаторы из близких Клинтону штатов (больше 50%) и не близких (меньше 50%) голосуют одинаково."
   ]
  },
  {
   "cell_type": "code",
   "execution_count": 126,
   "metadata": {},
   "outputs": [
    {
     "ename": "TypeError",
     "evalue": "only size-1 arrays can be converted to Python scalars",
     "output_type": "error",
     "traceback": [
      "\u001b[0;31m---------------------------------------------------------------------------\u001b[0m",
      "\u001b[0;31mTypeError\u001b[0m                                 Traceback (most recent call last)",
      "\u001b[0;32m<ipython-input-126-0c324a280bca>\u001b[0m in \u001b[0;36m<module>\u001b[0;34m\u001b[0m\n\u001b[0;32m----> 1\u001b[0;31m \u001b[0mx\u001b[0m \u001b[0;34m=\u001b[0m \u001b[0mdata\u001b[0m\u001b[0;34m[\u001b[0m\u001b[0mint\u001b[0m\u001b[0;34m(\u001b[0m\u001b[0mdata\u001b[0m\u001b[0;34m[\u001b[0m\u001b[0;34m:\u001b[0m\u001b[0;34m,\u001b[0m\u001b[0;36m7\u001b[0m\u001b[0;34m]\u001b[0m\u001b[0;34m)\u001b[0m\u001b[0;34m>\u001b[0m\u001b[0mint\u001b[0m\u001b[0;34m(\u001b[0m\u001b[0;34m'50'\u001b[0m\u001b[0;34m)\u001b[0m\u001b[0;34m]\u001b[0m\u001b[0;34m[\u001b[0m\u001b[0;34m:\u001b[0m\u001b[0;34m,\u001b[0m\u001b[0;36m4\u001b[0m\u001b[0;34m]\u001b[0m \u001b[0;31m# bro\u001b[0m\u001b[0;34m\u001b[0m\u001b[0;34m\u001b[0m\u001b[0m\n\u001b[0m\u001b[1;32m      2\u001b[0m \u001b[0my\u001b[0m \u001b[0;34m=\u001b[0m \u001b[0mdata\u001b[0m\u001b[0;34m[\u001b[0m\u001b[0mdata\u001b[0m\u001b[0;34m[\u001b[0m\u001b[0;34m:\u001b[0m\u001b[0;34m,\u001b[0m\u001b[0;36m7\u001b[0m\u001b[0;34m]\u001b[0m\u001b[0;34m==\u001b[0m\u001b[0;34m'0'\u001b[0m\u001b[0;34m]\u001b[0m\u001b[0;34m[\u001b[0m\u001b[0;34m:\u001b[0m\u001b[0;34m,\u001b[0m\u001b[0;36m4\u001b[0m\u001b[0;34m]\u001b[0m \u001b[0;31m# not bro\u001b[0m\u001b[0;34m\u001b[0m\u001b[0;34m\u001b[0m\u001b[0m\n",
      "\u001b[0;31mTypeError\u001b[0m: only size-1 arrays can be converted to Python scalars"
     ]
    }
   ],
   "source": [
    "x = data[data[:,7]=='1'][:,4] # bro\n",
    "y = data[data[:,7]=='0'][:,4] # not bro"
   ]
  },
  {
   "cell_type": "code",
   "execution_count": null,
   "metadata": {},
   "outputs": [],
   "source": []
  }
 ],
 "metadata": {
  "kernelspec": {
   "display_name": "Python 3",
   "language": "python",
   "name": "python3"
  },
  "language_info": {
   "codemirror_mode": {
    "name": "ipython",
    "version": 3
   },
   "file_extension": ".py",
   "mimetype": "text/x-python",
   "name": "python",
   "nbconvert_exporter": "python",
   "pygments_lexer": "ipython3",
   "version": "3.8.5"
  }
 },
 "nbformat": 4,
 "nbformat_minor": 4
}
