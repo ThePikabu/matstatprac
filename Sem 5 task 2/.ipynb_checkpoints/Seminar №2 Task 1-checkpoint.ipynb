{
 "cells": [
  {
   "cell_type": "markdown",
   "metadata": {},
   "source": [
    "### Задача 1 Вариант 3\n",
    "\n",
    "Сравнить:\n",
    "- t-test (Критерий Стьюдента)\n",
    "- BWS-test (критерий Баумгартнера-Вейсса-Шиндлера)\n",
    "- критерий Смирнова\n",
    "\n",
    "на выборках: \n",
    "- $N(0,\\, 1)$ и $N(0,\\,1)$\n",
    "- $N(0,\\, 1)$ и $N(0.2,\\,2)$\n",
    "- $R[0, \\, 1]$ и $R[1, \\, 1.1]$"
   ]
  },
  {
   "cell_type": "code",
   "execution_count": 1,
   "metadata": {},
   "outputs": [],
   "source": [
    "import numpy as np\n",
    "from scipy import stats\n",
    "import matplotlib.pyplot as plt\n",
    "import random"
   ]
  },
  {
   "cell_type": "markdown",
   "metadata": {},
   "source": [
    "## $N(0,\\,1)$ и $N(0, \\, 1)$"
   ]
  },
  {
   "cell_type": "code",
   "execution_count": 2,
   "metadata": {},
   "outputs": [],
   "source": [
    "x = np.random.normal(0, 1, 1000)\n",
    "y = np.random.normal(0, 1, 1000)"
   ]
  },
  {
   "cell_type": "markdown",
   "metadata": {},
   "source": [
    "# Критерий Стьюдента"
   ]
  },
  {
   "cell_type": "code",
   "execution_count": 3,
   "metadata": {},
   "outputs": [
    {
     "data": {
      "text/plain": [
       "Ttest_indResult(statistic=-0.9102914098282988, pvalue=0.36277864836617846)"
      ]
     },
     "execution_count": 3,
     "metadata": {},
     "output_type": "execute_result"
    }
   ],
   "source": [
    "students = stats.ttest_ind(x, y)\n",
    "students"
   ]
  },
  {
   "cell_type": "code",
   "execution_count": 4,
   "metadata": {},
   "outputs": [
    {
     "data": {
      "text/plain": [
       "[<matplotlib.lines.Line2D at 0x1188b62b0>]"
      ]
     },
     "execution_count": 4,
     "metadata": {},
     "output_type": "execute_result"
    },
    {
     "data": {
      "image/png": "[encoded data removed]",
      "text/plain": [
       "<Figure size 432x288 with 1 Axes>"
      ]
     },
     "metadata": {
      "needs_background": "light"
     },
     "output_type": "display_data"
    }
   ],
   "source": [
    "stat = []\n",
    "for i in range(1000):\n",
    "    norm1 = np.random.normal(0, 1, 100)\n",
    "    norm2 = np.random.normal(0, 1, 100)\n",
    "    stat.append(stats.ttest_ind(norm1, norm2)[1])\n",
    "    \n",
    "stat = sorted(stat)\n",
    "plt.plot(stat, np.arange(1, 1001)/1000)\n",
    "plt.plot([0, 1], [0, 1])"
   ]
  },
  {
   "cell_type": "markdown",
   "metadata": {},
   "source": [
    "# Критерий Баумгартнера-Вейсса-Шиндлера"
   ]
  },
  {
   "cell_type": "code",
   "execution_count": 23,
   "metadata": {},
   "outputs": [],
   "source": [
    "# функция подсчета ранга не учитывает совпадающие ранги ? \n",
    "\n",
    "def Count_Ranges(x, y):\n",
    "    combined = np.concatenate((x, y))\n",
    "    rang = np.argsort(combined)+1\n",
    "    x_range = rang[:len(x)]\n",
    "    y_range = rang[len(x):]\n",
    "    return np.sort(x_range), np.sort(y_range)\n",
    "\n",
    "\n",
    "def Bws_stat(rang, n, m):\n",
    "    stat = np.sum([np.power(rang[i]-(n + m)/n * (i+1), 2) / ((1 - (i+1)/(n + 1))\n",
    "                                * ((i+1) / (n + 1)) * m * (n + m) / n)\n",
    "                                for i in range(n)]) / n\n",
    "    return stat\n",
    "\n",
    "\n",
    "def Permutation(x, stat, n, m):\n",
    "    permutations = [np.random.permutation(x) for i in range(1000)]\n",
    "    stats = []\n",
    "    for x in permutations:\n",
    "        rang_x, rang_y = Count_Ranges(x[:n], x[n:])\n",
    "        stats.append((Bws_stat(rang_x, n, m) + Bws_stat(rang_y, m, m))/2)\n",
    "\n",
    "    pvalue = np.count_nonzero(stats > stat)/len(permutations)\n",
    "    return pvalue\n",
    "\n",
    "\n",
    "def Bws_Test(x, y):\n",
    "    x_range, y_range = Count_Ranges(x, y)\n",
    "\n",
    "    n = len(x)\n",
    "    m = len(y)\n",
    "\n",
    "    B_x = Bws_stat(x_range, n, m)\n",
    "    B_y = Bws_stat(y_range, m, n)\n",
    "\n",
    "    statistic = (B_x + B_y)/2\n",
    "    concat = np.concatenate((x, y))\n",
    "    pvalue = Permutation(concat, statistic, n, m)\n",
    "\n",
    "\n",
    "    return [(B_x + B_y)/2, pvalue]\n"
   ]
  },
  {
   "cell_type": "code",
   "execution_count": null,
   "metadata": {},
   "outputs": [],
   "source": [
    "stat = []\n",
    "for i in range(100):\n",
    "    norm1 = np.random.normal(0, 1, 100)\n",
    "    norm2 = np.random.normal(0, 1, 100)\n",
    "    stat.append(Bws_Test(norm1, norm2)[1])\n",
    "    \n",
    "stat = sorted(stat)\n",
    "plt.plot(stat, np.arange(1, 101)/100)\n",
    "plt.plot([0, 1], [0, 1])"
   ]
  },
  {
   "cell_type": "code",
   "execution_count": 7,
   "metadata": {},
   "outputs": [
    {
     "data": {
      "text/plain": [
       "KstestResult(statistic=0.033, pvalue=0.647814872077161)"
      ]
     },
     "execution_count": 7,
     "metadata": {},
     "output_type": "execute_result"
    }
   ],
   "source": [
    "smirnov = stats.ks_2samp(x, y)\n",
    "smirnov"
   ]
  },
  {
   "cell_type": "code",
   "execution_count": 8,
   "metadata": {},
   "outputs": [
    {
     "data": {
      "text/plain": [
       "[<matplotlib.lines.Line2D at 0x11a9f6af0>]"
      ]
     },
     "execution_count": 8,
     "metadata": {},
     "output_type": "execute_result"
    },
    {
     "data": {
      "image/png": "[encoded data removed]",
      "text/plain": [
       "<Figure size 432x288 with 1 Axes>"
      ]
     },
     "metadata": {
      "needs_background": "light"
     },
     "output_type": "display_data"
    }
   ],
   "source": [
    "stat = []\n",
    "for i in range(1000):\n",
    "    norm1 = np.random.normal(0, 1, 100)\n",
    "    norm2 = np.random.normal(0, 1, 100)\n",
    "    stat.append(stats.ks_2samp(norm1, norm2)[1])\n",
    "    \n",
    "stat = sorted(stat)\n",
    "plt.plot(stat, np.arange(1, 1001)/1000)\n",
    "plt.plot([0, 1], [0, 1])"
   ]
  },
  {
   "cell_type": "markdown",
   "metadata": {},
   "source": [
    "## $N(0,\\,1)$ и $N(0.2,\\, 0.2)$"
   ]
  },
  {
   "cell_type": "code",
   "execution_count": 18,
   "metadata": {},
   "outputs": [],
   "source": [
    "x = np.random.normal(0, 1, 1000)\n",
    "y = np.random.normal(0.2, 2, 1000)"
   ]
  },
  {
   "cell_type": "code",
   "execution_count": 21,
   "metadata": {},
   "outputs": [
    {
     "data": {
      "text/plain": [
       "Ttest_indResult(statistic=-3.732703807260408, pvalue=0.0001947316205807473)"
      ]
     },
     "execution_count": 21,
     "metadata": {},
     "output_type": "execute_result"
    }
   ],
   "source": [
    "students = stats.ttest_ind(x, y)\n",
    "students"
   ]
  },
  {
   "cell_type": "code",
   "execution_count": 22,
   "metadata": {},
   "outputs": [
    {
     "data": {
      "text/plain": [
       "[3.6706585761469253, 0.01]"
      ]
     },
     "execution_count": 22,
     "metadata": {},
     "output_type": "execute_result"
    }
   ],
   "source": [
    "bws = Bws_Test(x, y)\n",
    "bws"
   ]
  },
  {
   "cell_type": "code",
   "execution_count": null,
   "metadata": {},
   "outputs": [],
   "source": []
  }
 ],
 "metadata": {
  "kernelspec": {
   "display_name": "Python 3",
   "language": "python",
   "name": "python3"
  },
  "language_info": {
   "codemirror_mode": {
    "name": "ipython",
    "version": 3
   },
   "file_extension": ".py",
   "mimetype": "text/x-python",
   "name": "python",
   "nbconvert_exporter": "python",
   "pygments_lexer": "ipython3",
   "version": "3.8.5"
  }
 },
 "nbformat": 4,
 "nbformat_minor": 1
}
